{
 "cells": [
  {
   "cell_type": "code",
   "execution_count": null,
   "metadata": {},
   "outputs": [
    {
     "ename": "ModuleNotFoundError",
     "evalue": "No module named 'pandas'",
     "output_type": "error",
     "traceback": [
      "\u001b[0;31m---------------------------------------------------------------------------\u001b[0m",
      "\u001b[0;31mModuleNotFoundError\u001b[0m                       Traceback (most recent call last)",
      "\u001b[1;32m/home/bobby/projects/mashub/pipelines/pipeMain.ipynb Cell 1\u001b[0m in \u001b[0;36m<cell line: 1>\u001b[0;34m()\u001b[0m\n\u001b[0;32m----> <a href='vscode-notebook-cell:/home/bobby/projects/mashub/pipelines/pipeMain.ipynb#ch0000000?line=0'>1</a>\u001b[0m \u001b[39mimport\u001b[39;00m \u001b[39mpandas\u001b[39;00m \u001b[39mas\u001b[39;00m \u001b[39mpd\u001b[39;00m\n\u001b[1;32m      <a href='vscode-notebook-cell:/home/bobby/projects/mashub/pipelines/pipeMain.ipynb#ch0000000?line=1'>2</a>\u001b[0m \u001b[39mimport\u001b[39;00m \u001b[39mnumpy\u001b[39;00m \u001b[39mas\u001b[39;00m \u001b[39mnp\u001b[39;00m\n\u001b[1;32m      <a href='vscode-notebook-cell:/home/bobby/projects/mashub/pipelines/pipeMain.ipynb#ch0000000?line=2'>3</a>\u001b[0m df \u001b[39m=\u001b[39m pd\u001b[39m.\u001b[39mread_excel(\u001b[39mr\u001b[39m\u001b[39m'\u001b[39m\u001b[39mdata.xlsx\u001b[39m\u001b[39m'\u001b[39m, index_col\u001b[39m=\u001b[39m\u001b[39m0\u001b[39m)\n",
      "\u001b[0;31mModuleNotFoundError\u001b[0m: No module named 'pandas'"
     ]
    }
   ],
   "source": [
    "import pandas as pd\n",
    "import numpy as np\n",
    "df = pd.read_excel(r'data.xlsx', index_col=0)\n",
    "print(df.shape)"
   ]
  },
  {
   "cell_type": "code",
   "execution_count": null,
   "metadata": {},
   "outputs": [],
   "source": [
    "variables=list(df.columns)\n",
    "# print(variables)"
   ]
  },
  {
   "cell_type": "code",
   "execution_count": null,
   "metadata": {},
   "outputs": [],
   "source": [
    "df =df.drop(['Start time','Completion time','Email','Name'],  axis=1)\n",
    "# print(df.columns)"
   ]
  },
  {
   "cell_type": "code",
   "execution_count": null,
   "metadata": {},
   "outputs": [],
   "source": [
    "extensions =df[df['What you developed is (PLEASE SELECT ONE ANSWER TO SEE THE OTHER QUESTIONS IN THE FORM!)\\n']=='a publicly available add-on/extension/library for an existing framework for building MASs ']\n",
    "print(extensions.shape)"
   ]
  },
  {
   "cell_type": "code",
   "execution_count": null,
   "metadata": {},
   "outputs": [],
   "source": [
    "extensions_empty_cols = [col for col in extensions.columns if extensions[col].isnull().all()]\n",
    "# print(extensions.to_markdown(tablefmt=\"grid\"))"
   ]
  },
  {
   "cell_type": "code",
   "execution_count": null,
   "metadata": {},
   "outputs": [],
   "source": [
    "extensions_empty_cols.remove('Link to previous versions of the\\xa0add-on/extension/library (previous commits, or  independent repositories, or similar), if any\\n')\n",
    "extensions_empty_cols.append('What you developed is (PLEASE SELECT ONE ANSWER TO SEE THE OTHER QUESTIONS IN THE FORM!)\\n')\n",
    "extensions=extensions.drop(extensions_empty_cols, axis = 1)\n",
    "# print(extensions.to_markdown(tablefmt=\"grid\"))\n",
    "print(extensions.columns)\n"
   ]
  },
  {
   "cell_type": "code",
   "execution_count": null,
   "metadata": {},
   "outputs": [],
   "source": [
    "extensions =extensions.rename(columns = {\n",
    "    'Your first name':'first_name',\n",
    "    'Your family name':'last_name',\n",
    "    'Your email address':'email',\n",
    "    'Your affiliation, if any\\n':'affiliation', \n",
    "    'Your country (the country of your university/company, or where you carry your professional activity out)\\n':'country', \n",
    "    'A few words about you (you might add the link to your web page here, or add a short bio, or leave empty!)':'bio', \n",
    "    'Which option better describes the artefact (framework, extension of a framework, MAS) that you developed?\\n':'artifact_type', \n",
    "    'Name of the artefact you developed\\n':'artifact_name', \n",
    "    'Key-phrase #1 describing your artefact\\n':'key_phrase_1', \n",
    "    'Key-phrase #2\\n':'key_phrase_2', \n",
    "    'Key-phrase #3\\n':'key_phrase_3',  \n",
    "    'Key-phrase #4\\n':'key_phrase_4', \n",
    "    'Key-phrase #5\\n':'key_phrase_5', \n",
    "    'What you developed is (PLEASE SELECT ONE ANSWER TO SEE THE OTHER QUESTIONS IN THE FORM!)\\n':'dev_type', \n",
    "    'Optional comments':'comments',\n",
    "    'Public url of the add-on/extension/library you developed (it should be available for download from there)':'public_url',\n",
    "    'Is the source code of your add-on/extension/library available to the community?':'source_code_availability',\n",
    "    'Are there previous versions of the add-on/extension/library (previous commits, or independent repositories, or similar), available to the community?':'previous_version_availability',\n",
    "    'Link to previous versions of the add-on/extension/library (previous commits, or  independent repositories, or similar), if any\\n':'previous_version_urls',\n",
    "    'Under which licence is the add-on/extension/library shared with the community?':'license',\n",
    "\n",
    "\n",
    "    'Does the public repo of the add-on/extension/library include a list of bugs with their fix history?':'bug_history_availability',\n",
    "    'Name of the MAS development platform extended via this add-on/extension/library (ex: JADE, Jason, Jadex, NetLogo, AnyLogic, ....)':'framework_extended',\n",
    "    \n",
    "\n",
    "    'URL of the MAS development platform you extended thanks to your add-on/extension/library':'framework_extended_url',\n",
    "    'Version of the MAS development platform you extended thanks to your add-on/library/extension':'framework_extended_version',\n",
    "    'Are you aware of scientists/companies using the add-on/extension/library you developed? If yes, may you list them with a brief explanation of the applications they developed?':'apps_developed',\n",
    "    'Does documentation supporting users exist? If yes, which kind?\\n3':'documentation_availability',\n",
    "    'Does a technical assistance support for your add-on/extension/library exist? If yes, may you provide the email or form to be used for obtaining assistance support?\\n':'technical_assistance',\n",
    "    'May you list here the third party tools/libraries etc to be installed (along with a link to download them if they cannot be included in the repo) to have your add-on/extension/library running -- f...':'additional_tools_needed',\n",
    "    'Did you perform some form of testing of the add-on/extension/library?':'user_testing_status',\n",
    "    'May you share the link for accessing the testing resources, if any?':'user_testing_url',\n",
    "    'For implementing your add-on/extension/library, did you follow any software engineering methodology? If yes, which one?':'software_engineering_methodology',\n",
    "    'Primary paper describing the add-on/extension/library and/or a few lines of description of the contribution\\n':'technical_paper1',\n",
    "    \n",
    "    \n",
    "'Secondary paper describing the add-on/extension/library if any':'technical_paper2',\n",
    "   \n",
    "})\n",
    "print(extensions.to_markdown(tablefmt=\"grid\"))\n",
    "print(extensions.columns)"
   ]
  },
  {
   "cell_type": "code",
   "execution_count": null,
   "metadata": {},
   "outputs": [],
   "source": [
    "frameworks =df[(df['What you developed is (PLEASE SELECT ONE ANSWER TO SEE THE OTHER QUESTIONS IN THE FORM!)\\n']=='a publicly available framework for building MASs ') | (df['What you developed is (PLEASE SELECT ONE ANSWER TO SEE THE OTHER QUESTIONS IN THE FORM!)\\n']=='a publicly available framework for engineering MASs ')]\n",
    "print(frameworks.shape)"
   ]
  },
  {
   "cell_type": "code",
   "execution_count": null,
   "metadata": {},
   "outputs": [],
   "source": [
    "frameworks_empty_cols = [col for col in frameworks.columns if frameworks[col].isnull().all()]\n",
    "# print(frameworks.to_markdown(tablefmt=\"grid\"))\n",
    "# print(frameworks_empty_cols)"
   ]
  },
  {
   "cell_type": "code",
   "execution_count": null,
   "metadata": {},
   "outputs": [],
   "source": [
    "frameworks_empty_cols.append('What you developed is (PLEASE SELECT ONE ANSWER TO SEE THE OTHER QUESTIONS IN THE FORM!)\\n')\n",
    "frameworks_empty_cols.remove('Comma separated list of publicly available urls of the MAS/MASs you developed (the MASs should be available for download from there). Please note that inserting all the links in this answer makes ...')\n",
    "frameworks=frameworks.drop(frameworks_empty_cols, axis = 1)\n",
    "# print(frameworks.to_markdown(tablefmt=\"grid\"))\n",
    "# print(frameworks.columns)"
   ]
  },
  {
   "cell_type": "code",
   "execution_count": null,
   "metadata": {},
   "outputs": [],
   "source": [
    "frameworks =frameworks.rename(columns = {\n",
    "    'Your first name':'first_name',\n",
    "    'Your family name':'last_name',\n",
    "    'Your email address':'email',\n",
    "    'Your affiliation, if any\\n':'affiliation', \n",
    "    'Your country (the country of your university/company, or where you carry your professional activity out)\\n':'country', \n",
    "    'A few words about you (you might add the link to your web page here, or add a short bio, or leave empty!)':'bio', \n",
    "    'Which option better describes the artefact (framework, extension of a framework, MAS) that you developed?\\n':'artifact_type', \n",
    "    'Name of the artefact you developed\\n':'artifact_name', \n",
    "    'Key-phrase #1 describing your artefact\\n':'key_phrase_1', \n",
    "    'Key-phrase #2\\n':'key_phrase_2', \n",
    "    'Key-phrase #3\\n':'key_phrase_3',  \n",
    "    'Key-phrase #4\\n':'key_phrase_4', \n",
    "    'Key-phrase #5\\n':'key_phrase_5', \n",
    "    'What you developed is (PLEASE SELECT ONE ANSWER TO SEE THE OTHER QUESTIONS IN THE FORM!)\\n':'dev_type', \n",
    "    'Public url of the framework you developed (the framework should be available for download from there)\\n':'public_url', \n",
    "    'Is the source code of your framework available to the community?':'source_code_availability', \n",
    "    'Are there previous versions of the framework (previous commits, or independent repositories, or similar), available to the community?':'version_history_availability', \n",
    "    'Link to previous versions of the framework (previous commits, or  independent repositories, or similar), if any\\n':'previous_version_urls', \n",
    "    'Under which licence is the framework shared with the community?':'licence', \n",
    "    'Does the public repo of the framework include a list of bugs with their fix history?':'bug_history_availability', \n",
    "    'Are you aware of scientists/companies using the framework? If yes, may you list them with a brief explanation of the applications they developed?':'apps_developed', \n",
    "    'Does documentation supporting users exist? If yes, which kind?\\n':'documentation_availability', \n",
    "    'Does a technical assistance support for your framework exist? If yes, may you provide the email or form to be used for obtaining assistance?\\n':'technical_assistance', \n",
    "    'May you list here the third party tools/libraries etc to be installed (along with a link to download them if they cannot be included in the repo) to have your framework running -- for example DB m...':'additional_tools_needed', \n",
    "    'Did you perform any form of testing of the framework?':'user_testing_status', \n",
    "    'May you share the link for accessing the testing resources, if any?\\n':'user_testing_url', \n",
    "    'For implementing your framework, did you follow any software engineering methodology? If yes, which one?\\n':'software_engineering_methodology', \n",
    "    'Primary paper describing the framework and/or a few lines of description of the framework: its main features, purpose, etc\\n':'technical_paper1', \n",
    "    'Secondary paper describing the framework, if any':'technical_paper2', \n",
    "    'If the framework is aimed at building MASs, are MASs developed using the framework publicly available to the community? If yes, it would be great if you could submit this form, and then fill it on...':'mas_developed', \n",
    "    'Comma separated list of publicly available urls of the MAS/MASs you developed (the MASs should be available for download from there). Please note that inserting all the links in this answer makes ...':'csv_list_urls', \n",
    "    'Optional comments':'comments'\n",
    "})\n",
    "print(frameworks.to_markdown(tablefmt=\"grid\"))\n",
    "print(frameworks.columns)"
   ]
  },
  {
   "cell_type": "code",
   "execution_count": null,
   "metadata": {},
   "outputs": [],
   "source": [
    "agents =df[df['What you developed is (PLEASE SELECT ONE ANSWER TO SEE THE OTHER QUESTIONS IN THE FORM!)\\n']=='a publicly available MAS (or set of MASs) developed using some existing framework']\n",
    "print(agents.shape)"
   ]
  },
  {
   "cell_type": "code",
   "execution_count": null,
   "metadata": {},
   "outputs": [],
   "source": [
    "agents_empty_cols = [col for col in agents.columns if agents[col].isnull().all()]\n",
    "# print(agents.to_markdown(tablefmt=\"grid\"))\n",
    "# print(agents_empty_cols)\n"
   ]
  },
  {
   "cell_type": "code",
   "execution_count": null,
   "metadata": {},
   "outputs": [],
   "source": [
    "agents_empty_cols.append('What you developed is (PLEASE SELECT ONE ANSWER TO SEE THE OTHER QUESTIONS IN THE FORM!)\\n')\n",
    "agents_empty_cols = [e for e in agents_empty_cols if e not in ('Key-phrase #4\\n','Key-phrase #5\\n','May you list here the third party tools/libraries etc to be installed (along with a link to download them if they cannot be included in the repo) to have your MAS running -- for example DB manager...', 'May you share the link for accessing the testing resources, if any?', 'Secondary paper describing the MAS/MASs, if any', 'May we copy the code of your MAS/MASs and re-share it, without any change and acknowledging the authors and original source, in the public repository we are going to create? You will be able to re...')]\n",
    "# print(agents_empty_cols)\n",
    "agents=agents.drop(agents_empty_cols, axis = 1)\n",
    "# print(agents.to_markdown(tablefmt=\"grid\"))\n",
    "# print(agents.columns)\n"
   ]
  },
  {
   "cell_type": "code",
   "execution_count": null,
   "metadata": {},
   "outputs": [],
   "source": [
    "agents =agents.rename(columns = {\n",
    "    'Your first name':'first_name',\n",
    "    'Your family name':'last_name',\n",
    "    'Your email address':'email',\n",
    "    'Your affiliation, if any\\n':'affiliation', \n",
    "    'Your country (the country of your university/company, or where you carry your professional activity out)\\n':'country', \n",
    "    'A few words about you (you might add the link to your web page here, or add a short bio, or leave empty!)':'bio', \n",
    "    'Which option better describes the artefact (framework, extension of a framework, MAS) that you developed?\\n':'artifact_type', \n",
    "    'Name of the artefact you developed\\n':'artifact_name', \n",
    "    'Key-phrase #1 describing your artefact\\n':'key_phrase_1', \n",
    "    'Key-phrase #2\\n':'key_phrase_2', \n",
    "    'Key-phrase #3\\n':'key_phrase_3',  \n",
    "    'Key-phrase #4\\n':'key_phrase_4', \n",
    "    'Key-phrase #5\\n':'key_phrase_5', \n",
    "    'Comma separated list of publicly available urls of the MAS/MASs you developed (the MASs should be available for download from there). Please note that inserting all the links in this answer makes ...':'csv_url',\n",
    "    'Is the source code of your MASs available to the community?':'source_code_availability',\n",
    "    'Are there previous versions of the MASs (previous commits, or independent repositories, or similar), available to the community?':'previous_version_availability',\n",
    "    'Link to previous versions of the MASs (previous commits, or  independent repositories, or similar), if any\\n':'previous_version_urls',\n",
    "    'Under which licence is/are the MAS/MASs shared with the community?':'licence',\n",
    "    'Does the public repo of the MASs include a list of bugs with their fix history?':'bug_history_availability',\n",
    "    'Name of the MAS development platform you exploited for the development of your MASs (ex: JADE, Jason, Jadex, NetLogo, AnyLogic, ....)':'framework_used',\n",
    "    'URL of the MAS development platform you used to develop your MAS/MASs':'framework_used_url',\n",
    "    'Version of the MAS development platform you used to develop your MAS/MASs':'framework_used_version',\n",
    "    'Are you aware of scientists/companies using the MAS/MASs? If yes, may you list them with a brief explanation of the applications they developed?':'apps_developed',\n",
    "    'Does documentation supporting users exist? If yes, which kind?\\n2':'documentation_availability',\n",
    "    'Does a technical assistance support for your MASs exist? If yes, may you provide the email or form to be used for obtaining assistance support?\\n':'technical_assistance_availability',\n",
    "    'May you list here the third party tools/libraries etc to be installed (along with a link to download them if they cannot be included in the repo) to have your MAS running -- for example DB manager...':'additional_tools_needed',\n",
    "    'Did you perform any form of testing of the MAS?':'user_testing_status',\n",
    "    'May you share the link for accessing the testing resources, if any?':'user_testing_url',\n",
    "    'For implementing your MAS, did you follow any software engineering methodology? If yes, which one?':'software_engineering_methodology',\n",
    "    'Primary paper describing the MAS/MASs and/or a few lines of description of the MAS (the problem it solves, its main features, how many agent types, how many agent instances, etc)\\n':'technical_paper1',\n",
    "    'Secondary paper describing the MAS/MASs, if any':'technical_paper2',\n",
    "    'May we copy the code of your MAS/MASs and re-share it, without any change and acknowledging the authors and original source, in the public repository we are going to create? You will be able to re...':'code_reuse_licence',\n",
    "    'Optional comments':'comments'\n",
    "    \n",
    "})\n",
    "print(agents.to_markdown(tablefmt=\"grid\"))\n",
    "print(agents.columns)"
   ]
  },
  {
   "cell_type": "markdown",
   "metadata": {},
   "source": [
    "export files"
   ]
  },
  {
   "cell_type": "code",
   "execution_count": null,
   "metadata": {},
   "outputs": [],
   "source": [
    "extensions.to_csv('./outfiles/extensions.csv',  index=False)\n",
    "frameworks.to_csv('./outfiles/frameworks.csv',  index=False)\n",
    "agents.to_csv('./outfiles/agents.csv',  index=False)\n",
    "\n"
   ]
  },
  {
   "cell_type": "code",
   "execution_count": null,
   "metadata": {},
   "outputs": [],
   "source": [
    "frameworksSchema =frameworks.dtypes \n",
    "print(frameworksSchema)"
   ]
  },
  {
   "cell_type": "code",
   "execution_count": null,
   "metadata": {},
   "outputs": [],
   "source": [
    "extensionsSchema =extensions.dtypes \n",
    "print(extensionsSchema)"
   ]
  },
  {
   "cell_type": "code",
   "execution_count": null,
   "metadata": {},
   "outputs": [],
   "source": [
    "agentsSchema =agents.dtypes \n",
    "print(agentsSchema)"
   ]
  }
 ],
 "metadata": {
  "kernelspec": {
   "display_name": "Python 3.8.13 ('.venv': venv)",
   "language": "python",
   "name": "python3"
  },
  "language_info": {
   "codemirror_mode": {
    "name": "ipython",
    "version": 3
   },
   "file_extension": ".py",
   "mimetype": "text/x-python",
   "name": "python",
   "nbconvert_exporter": "python",
   "pygments_lexer": "ipython3",
   "version": "3.8.13"
  },
  "vscode": {
   "interpreter": {
    "hash": "7bf31c40d39ea9ea5fdf2ac38e67498eea46df439c1a3db87f2908e306949adc"
   }
  }
 },
 "nbformat": 4,
 "nbformat_minor": 4
}
